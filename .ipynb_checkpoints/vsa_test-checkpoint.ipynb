{
 "cells": [
  {
   "cell_type": "code",
   "execution_count": 1,
   "metadata": {},
   "outputs": [
    {
     "name": "stderr",
     "output_type": "stream",
     "text": [
      "C:\\Anaconda2\\lib\\site-packages\\h5py\\__init__.py:36: FutureWarning: Conversion of the second argument of issubdtype from `float` to `np.floating` is deprecated. In future, it will be treated as `np.float64 == np.dtype(float).type`.\n",
      "  from ._conv import register_converters as _register_converters\n"
     ]
    }
   ],
   "source": [
    "# https://gluon.mxnet.io/chapter03_deep-neural-networks/mlp-gluon.html#Faster-modeling-with-gluon.nn.Sequential\n",
    "from __future__ import print_function\n",
    "import csv\n",
    "import numpy as np\n",
    "import mxnet as mx\n",
    "from mxnet import nd, autograd, gluon"
   ]
  },
  {
   "cell_type": "code",
   "execution_count": 2,
   "metadata": {},
   "outputs": [],
   "source": [
    "batch_size = 2000\n",
    "num_of_samples = 4000\n",
    "num_of_train_samples = 3000\n",
    "num_of_test_samples = 1000\n",
    "CSVIter = mx.io.CSVIter(data_csv='snapshots_X_180709_124937.csv', data_shape=(337,), \n",
    "                        label_csv='snapshots_y_180709_124937.csv',\n",
    "                        batch_size=batch_size)\n",
    "batch = CSVIter.next()"
   ]
  },
  {
   "cell_type": "code",
   "execution_count": 3,
   "metadata": {},
   "outputs": [],
   "source": [
    "# X = []\n",
    "# y = []\n",
    "# with open('snapshots_Xy_180709_124937.csv', 'rb') as f:\n",
    "#     rdr = csv.reader(f, delimiter=',')\n",
    "#     next(rdr)\n",
    "#     # dat = [r for r in rdr]\n",
    "#     for row in rdr:\n",
    "#         X.append([float(x) for x in row[2:-1]])\n",
    "#         y.append(int(row[1]))\n",
    "\n",
    "# X = np.asarray(X)\n",
    "# y = np.asarray(y)\n",
    "\n",
    "# Xtrain = X[0:3000,:]\n",
    "# Xtest = X[3000:,:]\n",
    "# ytrain = y[0:3000]\n",
    "# ytest = y[3000:]"
   ]
  },
  {
   "cell_type": "code",
   "execution_count": 4,
   "metadata": {},
   "outputs": [],
   "source": [
    "train_data = gluon.data.DataLoader(gluon.data.ArrayDataset(batch.data, batch.label),\n",
    "                                   batch_size=batch_size, shuffle=True)\n",
    "test_data = gluon.data.DataLoader(gluon.data.ArrayDataset(batch.data, batch.label),\n",
    "                                  batch_size=batch_size, shuffle=True)"
   ]
  },
  {
   "cell_type": "code",
   "execution_count": null,
   "metadata": {},
   "outputs": [],
   "source": []
  },
  {
   "cell_type": "code",
   "execution_count": 5,
   "metadata": {},
   "outputs": [],
   "source": [
    "mdl_ctx = mx.cpu()\n",
    "dat_ctx = mx.cpu()"
   ]
  },
  {
   "cell_type": "code",
   "execution_count": 6,
   "metadata": {},
   "outputs": [],
   "source": [
    "num_hidden = 30\n",
    "net = gluon.nn.Sequential()\n",
    "with net.name_scope():\n",
    "    net.add(gluon.nn.Dense(128, activation=\"relu\"))\n",
    "    net.add(gluon.nn.Dense(64, activation=\"relu\"))\n",
    "    net.add(gluon.nn.Dense(32))"
   ]
  },
  {
   "cell_type": "code",
   "execution_count": 7,
   "metadata": {},
   "outputs": [],
   "source": [
    "net.collect_params().initialize(mx.init.Normal(sigma=.1), ctx=mdl_ctx)"
   ]
  },
  {
   "cell_type": "code",
   "execution_count": 8,
   "metadata": {},
   "outputs": [],
   "source": [
    "softmax_cross_entropy = gluon.loss.SoftmaxCrossEntropyLoss()"
   ]
  },
  {
   "cell_type": "code",
   "execution_count": 9,
   "metadata": {},
   "outputs": [],
   "source": [
    "trainer = gluon.Trainer(net.collect_params(), 'sgd', {'learning_rate': .01})"
   ]
  },
  {
   "cell_type": "code",
   "execution_count": 10,
   "metadata": {},
   "outputs": [],
   "source": [
    "def evaluate_accuracy(data_iterator, net):\n",
    "    acc = mx.metric.Accuracy()\n",
    "    for i, (data, label) in enumerate(data_iterator):\n",
    "        data = data.as_in_context(mdl_ctx).reshape((-1, 337))\n",
    "        label = label.as_in_context(mdl_ctx).reshape((-1))\n",
    "        output = net(data)\n",
    "        predictions = nd.argmax(output, axis=1)\n",
    "        acc.update(preds=predictions, labels=label)\n",
    "    return acc.get()[1]"
   ]
  },
  {
   "cell_type": "code",
   "execution_count": 11,
   "metadata": {},
   "outputs": [
    {
     "name": "stdout",
     "output_type": "stream",
     "text": [
      "Epoch  0. Train_acc:   0.95300000, Test_acc:   0.95300000, Loss: 629.2114375\n",
      "Epoch  1. Train_acc:   0.04700000, Test_acc:   0.04700000, Loss: 176671293.44\n",
      "Epoch  2. Train_acc:   0.95300000, Test_acc:   0.95300000, Loss: 2.2005645509518164e+16\n",
      "Epoch  3. Train_acc:   0.04700000, Test_acc:   0.04700000, Loss: nan\n",
      "Epoch  4. Train_acc:   0.04700000, Test_acc:   0.04700000, Loss: nan\n",
      "Epoch  5. Train_acc:   0.04700000, Test_acc:   0.04700000, Loss: nan\n",
      "Epoch  6. Train_acc:   0.04700000, Test_acc:   0.04700000, Loss: nan\n",
      "Epoch  7. Train_acc:   0.04700000, Test_acc:   0.04700000, Loss: nan\n",
      "Epoch  8. Train_acc:   0.04700000, Test_acc:   0.04700000, Loss: nan\n",
      "Epoch  9. Train_acc:   0.04700000, Test_acc:   0.04700000, Loss: nan\n"
     ]
    }
   ],
   "source": [
    "epochs = 10\n",
    "smoothing_constant = .01\n",
    "\n",
    "for e in range(epochs):\n",
    "    cumulative_loss = 0\n",
    "    for i, (data, label) in enumerate(train_data):\n",
    "        data = data.as_in_context(mdl_ctx).reshape((-1, 337))\n",
    "        label = label.as_in_context(mdl_ctx).reshape((-1))\n",
    "        with autograd.record():\n",
    "            output = net(data)\n",
    "            loss = softmax_cross_entropy(output, label)\n",
    "        loss.backward()\n",
    "        trainer.step(data.shape[0])\n",
    "        cumulative_loss += nd.sum(loss).asscalar()\n",
    "\n",
    "\n",
    "    train_accuracy = evaluate_accuracy(train_data, net)\n",
    "    test_accuracy = evaluate_accuracy(test_data, net)\n",
    "    print(\"Epoch %2d. Train_acc: %12.8f, Test_acc: %12.8f, Loss: %s\" %\n",
    "          (e, train_accuracy, test_accuracy, cumulative_loss/num_of_samples))"
   ]
  },
  {
   "cell_type": "code",
   "execution_count": null,
   "metadata": {},
   "outputs": [],
   "source": []
  },
  {
   "cell_type": "code",
   "execution_count": null,
   "metadata": {},
   "outputs": [],
   "source": []
  }
 ],
 "metadata": {
  "kernelspec": {
   "display_name": "Python 2",
   "language": "python",
   "name": "python2"
  },
  "language_info": {
   "codemirror_mode": {
    "name": "ipython",
    "version": 2
   },
   "file_extension": ".py",
   "mimetype": "text/x-python",
   "name": "python",
   "nbconvert_exporter": "python",
   "pygments_lexer": "ipython2",
   "version": "2.7.15"
  }
 },
 "nbformat": 4,
 "nbformat_minor": 2
}
